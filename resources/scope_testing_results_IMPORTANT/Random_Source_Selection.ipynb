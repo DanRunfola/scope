{
 "cells": [
  {
   "cell_type": "code",
   "execution_count": null,
   "metadata": {},
   "outputs": [],
   "source": [
    "# import packages\n",
    "import pandas as pd\n",
    "import numpy as np\n",
    "\n",
    "# import data\n",
    "sources = pd.read_csv(\"sources.csv\")\n",
    "\n",
    "# remove sources which were loaded into the SCOPE tool but not processed\n",
    "droplist = [150,151,157,158,164,165,171,172,178,179]\n",
    "sources = sources[~sources['id'].isin(droplist)]\n",
    "\n",
    "# remove sources which didn't have their source_text automatically imported via boilerpy3\n",
    "sources = sources.dropna()\n",
    "\n",
    "# select 30 random sources\n",
    "test_sources = sources.sample(n=30, replace=False, random_state=2)\n",
    "test_sources = test_sources.sort_values('id')\n",
    "\n",
    "# create a new index to help with testing across the researchers, the key, and the auto-assist\n",
    "test_sources['test_id'] = np.arange(len(test_sources))+1\n",
    "\n",
    "# keep only the necessary columns\n",
    "test_sources = test_sources.iloc[:,[7,0,2,3]]\n",
    "\n",
    "#export as csv\n",
    "test_sources.to_csv('test_sources.csv', index=False)"
   ]
  }
 ],
 "metadata": {
  "kernelspec": {
   "display_name": "Python 3",
   "language": "python",
   "name": "python3"
  },
  "language_info": {
   "codemirror_mode": {
    "name": "ipython",
    "version": 3
   },
   "file_extension": ".py",
   "mimetype": "text/x-python",
   "name": "python",
   "nbconvert_exporter": "python",
   "pygments_lexer": "ipython3",
   "version": "3.6.5"
  }
 },
 "nbformat": 4,
 "nbformat_minor": 2
}
