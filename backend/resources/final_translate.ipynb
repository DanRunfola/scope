{
 "cells": [
  {
   "cell_type": "markdown",
   "id": "fc766c1b-6468-4c6a-97a5-7ab13d330139",
   "metadata": {},
   "source": [
    "### Package installs "
   ]
  },
  {
   "cell_type": "code",
   "execution_count": null,
   "id": "57875cb1-fbae-4e6f-ba72-6935ccbb1b94",
   "metadata": {},
   "outputs": [],
   "source": [
    "pip install googletrans==3.1.0a0"
   ]
  },
  {
   "cell_type": "code",
   "execution_count": null,
   "id": "58e119ec-37e0-43d6-8d7b-61f87c32eae6",
   "metadata": {},
   "outputs": [],
   "source": [
    "pip install google"
   ]
  },
  {
   "cell_type": "code",
   "execution_count": null,
   "id": "7bdf5be9-b146-4af2-b187-3d732ac885b8",
   "metadata": {},
   "outputs": [],
   "source": [
    "pip install boilerpy3"
   ]
  },
  {
   "cell_type": "markdown",
   "id": "543d8194-5f41-41bf-b460-36812dbfbd3f",
   "metadata": {},
   "source": [
    "### Function"
   ]
  },
  {
   "cell_type": "code",
   "execution_count": 13,
   "id": "8ba83f20-cda7-415d-9f73-12ce8687046c",
   "metadata": {},
   "outputs": [],
   "source": [
    "def translate_func(list_of_keywords, website, language):\n",
    "    # Purpose: 1. Takes a list of keywords and translates them into the target laguage.\n",
    "            #  2. Searches news sites for the top 10 news articles that contain those words.\n",
    "            #  3. Translates those articles from target language to English and places the translated text into a df.\n",
    "    # Inputs: list_of_keywords - All keywords that we would like to be in the news articles. Must be in a list. \n",
    "            # website - The target website (website.com is an acceptable format, no www. needed)\n",
    "            # language - Target language to search in\n",
    "    # Outputs: 1. A dataframe containing the url, original title, translated title, original text, and original text of each article\n",
    "            #  2. A list of urls that had an error and could not be scraped or translated\n",
    "            \n",
    "    from googlesearch import search\n",
    "    from boilerpy3 import extractors\n",
    "    import re\n",
    "    from googletrans import Translator, constants\n",
    "    import googletrans\n",
    "    import pandas as pd\n",
    "    \n",
    "    # Init translator\n",
    "    translator = Translator()\n",
    "    \n",
    "    # Create dataframe to hold function output (translated texts)\n",
    "    url_df = pd.DataFrame(columns= [\"url\",\"original_title\",\"translated_title\",\"original_text\",\"translated_text\"])\n",
    "    \n",
    "    # Create list to store urls that raised errors \n",
    "    errors = []  \n",
    "    \n",
    "    # Get language code from google translate languages list\n",
    "    for key, value in googletrans.LANGUAGES.items():\n",
    "        if value == language:\n",
    "            dest_lang = key\n",
    "    \n",
    "    # Put keywords into google translate and store translated words in list\n",
    "    translated_keywords = []\n",
    "    for word in list_of_keywords:\n",
    "        translated_word = translator.translate(word, dest= dest_lang)\n",
    "        translated_keywords.append(translated_word.text)\n",
    "    \n",
    "    # Formatting keywords and website so that the google api can read them properly\n",
    "    keywords = \",\".join(translated_keywords)\n",
    "    \n",
    "    site = [\"site:\",website]\n",
    "    site = \"\".join(site)\n",
    "    site = \"'{}'\".format(site)\n",
    "    \n",
    "    search_phrase = keywords + \" \" + site\n",
    "        \n",
    "    # Search website for all articles with keyword match, if the article cannot be extracted, add it to the error list\n",
    "    for url in search(search_phrase, stop=10):\n",
    "        extractor = extractors.ArticleExtractor()\n",
    "        try:\n",
    "            doc = extractor.get_doc_from_url(url)\n",
    "        except:\n",
    "            errors.append(url)\n",
    "            continue\n",
    "        else:\n",
    "            content = doc.content.replace('\\n', ' ').replace('\\r', ' ').replace('\\t', ' ').replace('\\f', ' ').replace('\\v', ' ')\n",
    "            content = re.sub(r'\\s+', ' ', content) \n",
    "            \n",
    "            # Translate article_text\n",
    "            translation_content = translator.translate(content, dest='en')\n",
    "            translation_title = translator.translate(doc.title, dest='en')\n",
    "\n",
    "            # Put translated article into dataframe\n",
    "            url_df.loc[len(url_df)] = [url, doc.title, translation_title.text, translation_content.origin, translation_content.text]\n",
    "    \n",
    "    # Return df with translated articles and list of error urls\n",
    "    return(url_df, errors)"
   ]
  },
  {
   "cell_type": "markdown",
   "id": "4a7e784a-20ac-4896-9c8a-5504eae665ca",
   "metadata": {},
   "source": [
    "### Function trial"
   ]
  },
  {
   "cell_type": "code",
   "execution_count": 14,
   "id": "83f2bb9f-e269-401a-bc9b-5444a5b10852",
   "metadata": {},
   "outputs": [],
   "source": [
    "list_of_keywords = [\"china\", \"bank\"]\n",
    "website = \"elmundo.es\"\n",
    "language = \"spanish\"\n",
    "\n",
    "url_df, errors = translate_func(list_of_keywords, website, language)"
   ]
  },
  {
   "cell_type": "code",
   "execution_count": 16,
   "id": "0911e5fb-74c7-4f64-8d7e-198d8c91b1bb",
   "metadata": {},
   "outputs": [
    {
     "data": {
      "text/plain": [
       "['https://www.elmundo.es/mundodinero/2011/01/24/economia/1295861954.html',\n",
       " 'https://www.elmundo.es/elmundo/2011/11/02/navegante/1320223792.html',\n",
       " 'https://www.elmundo.es/mundodinero/2010/09/16/economia/1284628377.html']"
      ]
     },
     "execution_count": 16,
     "metadata": {},
     "output_type": "execute_result"
    }
   ],
   "source": [
    "errors"
   ]
  },
  {
   "cell_type": "code",
   "execution_count": 17,
   "id": "67372cdb-0c88-492a-9b9f-01aeabe9565c",
   "metadata": {},
   "outputs": [
    {
     "data": {
      "text/html": [
       "<div>\n",
       "<style scoped>\n",
       "    .dataframe tbody tr th:only-of-type {\n",
       "        vertical-align: middle;\n",
       "    }\n",
       "\n",
       "    .dataframe tbody tr th {\n",
       "        vertical-align: top;\n",
       "    }\n",
       "\n",
       "    .dataframe thead th {\n",
       "        text-align: right;\n",
       "    }\n",
       "</style>\n",
       "<table border=\"1\" class=\"dataframe\">\n",
       "  <thead>\n",
       "    <tr style=\"text-align: right;\">\n",
       "      <th></th>\n",
       "      <th>url</th>\n",
       "      <th>original_title</th>\n",
       "      <th>translated_title</th>\n",
       "      <th>original_text</th>\n",
       "      <th>translated_text</th>\n",
       "    </tr>\n",
       "  </thead>\n",
       "  <tbody>\n",
       "    <tr>\n",
       "      <th>0</th>\n",
       "      <td>https://www.elmundo.es/economia/2016/02/17/56c...</td>\n",
       "      <td>Así es ICBC, la institución financiera más gra...</td>\n",
       "      <td>This is ICBC, the largest financial institutio...</td>\n",
       "      <td>En los ochenta, el ICBC comenzó a expandirse p...</td>\n",
       "      <td>In the eighties, the ICBC began to expand abro...</td>\n",
       "    </tr>\n",
       "    <tr>\n",
       "      <th>1</th>\n",
       "      <td>https://www.elmundo.es/economia/2016/02/17/56c...</td>\n",
       "      <td>ICBC, el banco de la gran inversión china en E...</td>\n",
       "      <td>ICBC, the bank of the great Chinese investment...</td>\n",
       "      <td>Registran la sede de la entidad en Madrid ICBC...</td>\n",
       "      <td>They register the headquarters of the entity i...</td>\n",
       "    </tr>\n",
       "    <tr>\n",
       "      <th>2</th>\n",
       "      <td>https://www.elmundo.es/economia/2015/04/08/552...</td>\n",
       "      <td>La mafia china, a por el Banco Madrid | Econom...</td>\n",
       "      <td>The Chinese Mafia, for Banco Madrid | Economy ...</td>\n",
       "      <td>El escándalo financiero de BPA La mafia china,...</td>\n",
       "      <td>The BPA financial scandal The Chinese Mafia, a...</td>\n",
       "    </tr>\n",
       "    <tr>\n",
       "      <th>3</th>\n",
       "      <td>https://www.elmundo.es/economia/macroeconomia/...</td>\n",
       "      <td>El Banco central chino reduce al 3,15% el tipo...</td>\n",
       "      <td>The Chinese Central Bank reduces the medium-te...</td>\n",
       "      <td>Abrir panel de nuevas noticias MACROECONOMÍA C...</td>\n",
       "      <td>Open new news panel COVID-19 MACROECONOMY From...</td>\n",
       "    </tr>\n",
       "    <tr>\n",
       "      <th>4</th>\n",
       "      <td>https://www.elmundo.es/cataluna/2018/10/27/5bd...</td>\n",
       "      <td>Carles Puigdemont pidió 11.000 millones a Chin...</td>\n",
       "      <td>Carles Puigdemont asked China for 11 billion f...</td>\n",
       "      <td>Carles Puigdemont pidió 11.000 millones a Chin...</td>\n",
       "      <td>Carles Puigdemont asked China for 11,000 milli...</td>\n",
       "    </tr>\n",
       "    <tr>\n",
       "      <th>5</th>\n",
       "      <td>https://www.elmundo.es/economia/2020/03/16/5e6...</td>\n",
       "      <td>La economía china reinicia su actividad tras u...</td>\n",
       "      <td>The Chinese economy restarts its activity afte...</td>\n",
       "      <td>La economía china reinicia su actividad tras u...</td>\n",
       "      <td>The Chinese economy restarts its activity afte...</td>\n",
       "    </tr>\n",
       "    <tr>\n",
       "      <th>6</th>\n",
       "      <td>https://www.elmundo.es/economia/2016/02/25/56c...</td>\n",
       "      <td>Golpe a la telaraña delictiva china | Economía...</td>\n",
       "      <td>Strike to the Chinese criminal cobweb | Econom...</td>\n",
       "      <td>Operación Sombra Golpe a la telaraña delictiva...</td>\n",
       "      <td>Operation Shadow Hit the Chinese criminal web ...</td>\n",
       "    </tr>\n",
       "  </tbody>\n",
       "</table>\n",
       "</div>"
      ],
      "text/plain": [
       "                                                 url  \\\n",
       "0  https://www.elmundo.es/economia/2016/02/17/56c...   \n",
       "1  https://www.elmundo.es/economia/2016/02/17/56c...   \n",
       "2  https://www.elmundo.es/economia/2015/04/08/552...   \n",
       "3  https://www.elmundo.es/economia/macroeconomia/...   \n",
       "4  https://www.elmundo.es/cataluna/2018/10/27/5bd...   \n",
       "5  https://www.elmundo.es/economia/2020/03/16/5e6...   \n",
       "6  https://www.elmundo.es/economia/2016/02/25/56c...   \n",
       "\n",
       "                                      original_title  \\\n",
       "0  Así es ICBC, la institución financiera más gra...   \n",
       "1  ICBC, el banco de la gran inversión china en E...   \n",
       "2  La mafia china, a por el Banco Madrid | Econom...   \n",
       "3  El Banco central chino reduce al 3,15% el tipo...   \n",
       "4  Carles Puigdemont pidió 11.000 millones a Chin...   \n",
       "5  La economía china reinicia su actividad tras u...   \n",
       "6  Golpe a la telaraña delictiva china | Economía...   \n",
       "\n",
       "                                    translated_title  \\\n",
       "0  This is ICBC, the largest financial institutio...   \n",
       "1  ICBC, the bank of the great Chinese investment...   \n",
       "2  The Chinese Mafia, for Banco Madrid | Economy ...   \n",
       "3  The Chinese Central Bank reduces the medium-te...   \n",
       "4  Carles Puigdemont asked China for 11 billion f...   \n",
       "5  The Chinese economy restarts its activity afte...   \n",
       "6  Strike to the Chinese criminal cobweb | Econom...   \n",
       "\n",
       "                                       original_text  \\\n",
       "0  En los ochenta, el ICBC comenzó a expandirse p...   \n",
       "1  Registran la sede de la entidad en Madrid ICBC...   \n",
       "2  El escándalo financiero de BPA La mafia china,...   \n",
       "3  Abrir panel de nuevas noticias MACROECONOMÍA C...   \n",
       "4  Carles Puigdemont pidió 11.000 millones a Chin...   \n",
       "5  La economía china reinicia su actividad tras u...   \n",
       "6  Operación Sombra Golpe a la telaraña delictiva...   \n",
       "\n",
       "                                     translated_text  \n",
       "0  In the eighties, the ICBC began to expand abro...  \n",
       "1  They register the headquarters of the entity i...  \n",
       "2  The BPA financial scandal The Chinese Mafia, a...  \n",
       "3  Open new news panel COVID-19 MACROECONOMY From...  \n",
       "4  Carles Puigdemont asked China for 11,000 milli...  \n",
       "5  The Chinese economy restarts its activity afte...  \n",
       "6  Operation Shadow Hit the Chinese criminal web ...  "
      ]
     },
     "execution_count": 17,
     "metadata": {},
     "output_type": "execute_result"
    }
   ],
   "source": [
    "url_df"
   ]
  },
  {
   "cell_type": "code",
   "execution_count": 18,
   "id": "57bcf917-d5bb-443a-a4b9-70a7594d8e89",
   "metadata": {},
   "outputs": [],
   "source": [
    "url_df.to_csv('translate_function_output.csv')"
   ]
  }
 ],
 "metadata": {
  "kernelspec": {
   "display_name": "Python 3",
   "language": "python",
   "name": "python3"
  },
  "language_info": {
   "codemirror_mode": {
    "name": "ipython",
    "version": 3
   },
   "file_extension": ".py",
   "mimetype": "text/x-python",
   "name": "python",
   "nbconvert_exporter": "python",
   "pygments_lexer": "ipython3",
   "version": "3.8.8"
  }
 },
 "nbformat": 4,
 "nbformat_minor": 5
}
